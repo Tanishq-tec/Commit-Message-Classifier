{
 "cells": [
  {
   "cell_type": "code",
   "execution_count": null,
   "id": "31802c1c-67fa-40b4-9ab1-614247e0d867",
   "metadata": {},
   "outputs": [
    {
     "name": "stdin",
     "output_type": "stream",
     "text": [
      "Enter a commit message:  quick change\n"
     ]
    },
    {
     "name": "stdout",
     "output_type": "stream",
     "text": [
      "Low Quality 🚩\n"
     ]
    }
   ],
   "source": [
    "import joblib\n",
    "import pandas as pd\n",
    "import re\n",
    "import numpy as np\n",
    "\n",
    "\n",
    "# Load saved model\n",
    "model = joblib.load(\"commit_classifier.pkl\")\n",
    "vectorizer = joblib.load(\"vectorizer.pkl\")\n",
    "\n",
    "msg = input(\"Enter a commit message: \")\n",
    "msg_vec = vectorizer.transform([msg.lower()])\n",
    "pred = model.predict(msg_vec)[0]\n",
    "\n",
    "print(\"High Quality ✅\" if pred == 1 else \"Low Quality 🚩\")\n",
    "\n",
    "\n",
    "# You can type your own messages here\n",
    "while True:\n",
    "    msg = input(\"Enter a commit message (or type 'exit' to quit): \")\n",
    "    if msg.lower() == \"exit\":\n",
    "        break\n",
    "\n",
    "    msg_clean = clean_text(msg)\n",
    "    msg_vec = vectorizer.transform([msg_clean])\n",
    "    pred = model.predict(msg_vec)[0]\n",
    "\n",
    "    print(\"Result -->\", \"High Quality ✅\" if pred == 1 else \"Low Quality 🚩\")\n",
    "    print(\"-\"*40)"
   ]
  },
  {
   "cell_type": "code",
   "execution_count": null,
   "id": "1c8266d6-7c83-4cc5-a412-2092a3fc181e",
   "metadata": {},
   "outputs": [],
   "source": []
  }
 ],
 "metadata": {
  "kernelspec": {
   "display_name": "Python 3 (ipykernel)",
   "language": "python",
   "name": "python3"
  },
  "language_info": {
   "codemirror_mode": {
    "name": "ipython",
    "version": 3
   },
   "file_extension": ".py",
   "mimetype": "text/x-python",
   "name": "python",
   "nbconvert_exporter": "python",
   "pygments_lexer": "ipython3",
   "version": "3.13.5"
  }
 },
 "nbformat": 4,
 "nbformat_minor": 5
}
